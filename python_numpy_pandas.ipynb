{
 "cells": [
  {
   "cell_type": "markdow",
   "metadata": {},
   "source": [
    "# Data Types in Python\n",
    "\n",
    "### Basic/Primary Data Types\n",
    "1. Numbers (Int, Float)\n",
    "2. Booleans \n",
    "3. Strings\n",
    "\n",
    "### Containers/Secondary Data Types \n",
    "1. Lists = [1,2,3] \n",
    "2. Tuples = (1,2,3) \n",
    "3. Dictionaries = {1:'Apple',2:'Google',3:'IBM'}\n",
    "4. Sets = ('Apple','Google','IBM',)\n",
    "\n",
    "### In higher level packages\n",
    "6. **DataFrame** from Pandas\n",
    "2. **Array** from numpy "
   ]
  },
  {
   "cell_type": "markdown",
   "metadata": {},
   "source": [
    "## 1. Lists"
   ]
  },
  {
   "cell_type": "code",
   "execution_count": 19,
   "metadata": {},
   "outputs": [
    {
     "name": "stdout",
     "output_type": "stream",
     "text": [
      "[]\n",
      "[1, 2, 3]\n"
     ]
    }
   ],
   "source": [
    "## Empty list\n",
    "my_list = []\n",
    "print(my_list)\n",
    "\n",
    "## Pre-initialized list\n",
    "height = [1,2,3]\n",
    "print(height)"
   ]
  },
  {
   "cell_type": "markdown",
   "metadata": {},
   "source": [
    "-  ### Functions to modify/delete data in list"
   ]
  },
  {
   "cell_type": "markdown",
   "metadata": {},
   "source": [
    "# Differences in R and Python"
   ]
  },
  {
   "cell_type": "markdown",
   "metadata": {},
   "source": [
    "## Size of Container"
   ]
  },
  {
   "cell_type": "code",
   "execution_count": 20,
   "metadata": {},
   "outputs": [
    {
     "name": "stdout",
     "output_type": "stream",
     "text": [
      "Length of list1 = 5\n",
      "Lenth of dictionary = 3\n"
     ]
    }
   ],
   "source": [
    "### R uses length()\n",
    "### Python uses len()\n",
    "\n",
    "l1 = [10, 20, 30, 40, 50]\n",
    "print('Length of list1 =',len(l1))\n",
    "d1 = {1:'Apple',2:'Google',3:'IBM'}\n",
    "print('Lenth of dictionary =',len(d1))"
   ]
  },
  {
   "cell_type": "markdown",
   "metadata": {},
   "source": [
    "## How to know Data Type?"
   ]
  },
  {
   "cell_type": "code",
   "execution_count": 22,
   "metadata": {},
   "outputs": [
    {
     "name": "stdout",
     "output_type": "stream",
     "text": [
      "<class 'str'> <class 'str'> <class 'int'>\n"
     ]
    }
   ],
   "source": [
    "## R uses class()\n",
    "## Python uses type()\n",
    "\n",
    "x = 'INSOFE'\n",
    "y = '2017'\n",
    "z = 2017 \n",
    "print(type(x),type(y),type(z))"
   ]
  },
  {
   "cell_type": "code",
   "execution_count": 24,
   "metadata": {},
   "outputs": [
    {
     "data": {
      "text/plain": [
       "50"
      ]
     },
     "execution_count": 24,
     "metadata": {},
     "output_type": "execute_result"
    }
   ],
   "source": [
    "a = [10, 20, 30, 40, 50]\n",
    "a[4]"
   ]
  },
  {
   "cell_type": "markdown",
   "metadata": {},
   "source": [
    "### R indexing starts from 1\n",
    "### Python indexing starts from 0"
   ]
  },
  {
   "cell_type": "code",
   "execution_count": 26,
   "metadata": {},
   "outputs": [
    {
     "name": "stdout",
     "output_type": "stream",
     "text": [
      "[1, 99, 3]\n"
     ]
    }
   ],
   "source": [
    "a = [1,2,3]\n",
    "b = a\n",
    "b[1] = 99\n",
    "print(a)"
   ]
  },
  {
   "cell_type": "markdown",
   "metadata": {},
   "source": [
    "## Mutable vs Immutable\n",
    "\n",
    "**Mutable** objects allow partial edits.\n",
    "List, Dictionary, Set\n",
    "\n",
    "**Immutable** objects can be considered static/constant. You cannot make partial edits.\n",
    "Numeric, Boolean, String, Tuple"
   ]
  },
  {
   "cell_type": "code",
   "execution_count": 27,
   "metadata": {},
   "outputs": [
    {
     "name": "stdout",
     "output_type": "stream",
     "text": [
      "[2, 5, 6, 7]\n",
      "[2, 5, 99, 7]\n"
     ]
    }
   ],
   "source": [
    "## Mutable objects\n",
    "my_list = [2,5,6,7]\n",
    "print(my_list)\n",
    "\n",
    "my_list[2] = 99\n",
    "print(my_list)"
   ]
  },
  {
   "cell_type": "code",
   "execution_count": 28,
   "metadata": {},
   "outputs": [
    {
     "name": "stdout",
     "output_type": "stream",
     "text": [
      "(2, 5, 6, 7)\n"
     ]
    },
    {
     "ename": "TypeError",
     "evalue": "'tuple' object does not support item assignment",
     "output_type": "error",
     "traceback": [
      "\u001b[1;31m---------------------------------------------------------------------------\u001b[0m",
      "\u001b[1;31mTypeError\u001b[0m                                 Traceback (most recent call last)",
      "\u001b[1;32m<ipython-input-28-05d84a750e0a>\u001b[0m in \u001b[0;36m<module>\u001b[1;34m()\u001b[0m\n\u001b[0;32m      3\u001b[0m \u001b[0mprint\u001b[0m\u001b[1;33m(\u001b[0m\u001b[0mmy_tuple\u001b[0m\u001b[1;33m)\u001b[0m\u001b[1;33m\u001b[0m\u001b[0m\n\u001b[0;32m      4\u001b[0m \u001b[1;33m\u001b[0m\u001b[0m\n\u001b[1;32m----> 5\u001b[1;33m \u001b[0mmy_tuple\u001b[0m\u001b[1;33m[\u001b[0m\u001b[1;36m2\u001b[0m\u001b[1;33m]\u001b[0m \u001b[1;33m=\u001b[0m \u001b[1;36m99\u001b[0m\u001b[1;33m\u001b[0m\u001b[0m\n\u001b[0m\u001b[0;32m      6\u001b[0m \u001b[0mprint\u001b[0m\u001b[1;33m(\u001b[0m\u001b[0mmy_tuple\u001b[0m\u001b[1;33m)\u001b[0m\u001b[1;33m\u001b[0m\u001b[0m\n",
      "\u001b[1;31mTypeError\u001b[0m: 'tuple' object does not support item assignment"
     ]
    }
   ],
   "source": [
    "## Immutable objects\n",
    "my_tuple = (2,5,6,7)\n",
    "print(my_tuple)\n",
    "\n",
    "my_tuple[2] = 99\n",
    "print(my_tuple)"
   ]
  },
  {
   "cell_type": "code",
   "execution_count": 31,
   "metadata": {},
   "outputs": [
    {
     "name": "stdout",
     "output_type": "stream",
     "text": [
      "Rohit 1867053117200\n",
      "Saigal 1867053117368\n"
     ]
    }
   ],
   "source": [
    "## Behaviour with Immutable objects\n",
    "x = \"Rohit\"\n",
    "print(x,id(x))\n",
    "x = \"Saigal\"\n",
    "print(x,id(x))\n",
    "## Notice that the memory location gets changed if you modify atomic immutable data types"
   ]
  },
  {
   "cell_type": "code",
   "execution_count": 9,
   "metadata": {},
   "outputs": [],
   "source": [
    "## Behavious "
   ]
  },
  {
   "cell_type": "markdown",
   "metadata": {},
   "source": [
    "## In Python variable assignment is by reference"
   ]
  },
  {
   "cell_type": "code",
   "execution_count": 33,
   "metadata": {},
   "outputs": [
    {
     "name": "stdout",
     "output_type": "stream",
     "text": [
      "Apple 20 1463382080\n",
      "Orange 20 1463382080\n"
     ]
    }
   ],
   "source": [
    "Apple = 20\n",
    "Orange = Apple\n",
    "print(\"Apple\",Apple,id(Apple))\n",
    "print(\"Orange\",Orange,id(Orange))\n",
    "\n",
    "## Notice that the memory location of both the variables is same"
   ]
  },
  {
   "cell_type": "code",
   "execution_count": 35,
   "metadata": {},
   "outputs": [
    {
     "name": "stdout",
     "output_type": "stream",
     "text": [
      "Banana 20 1463382080\n",
      "Mango 20 1463382080 \n",
      "\n",
      "Banana 25 1463382240\n",
      "Mango 20 1463382080\n"
     ]
    }
   ],
   "source": [
    "## Behaviour with Immutable objects\n",
    "Banana = 20\n",
    "Mango = Banana\n",
    "print(\"Banana\",Banana,id(Banana))\n",
    "print(\"Mango\",Mango,id(Mango),\"\\n\")\n",
    "\n",
    "Banana = Banana + 5\n",
    "print(\"Banana\",Banana,id(Banana))\n",
    "print(\"Mango\",Mango,id(Mango))"
   ]
  },
  {
   "cell_type": "code",
   "execution_count": 36,
   "metadata": {},
   "outputs": [
    {
     "name": "stdout",
     "output_type": "stream",
     "text": [
      "Fruits [20, 30, 40, 50] 1867071008712\n",
      "Veggies [20, 30, 40, 50] 1867071008712 \n",
      "\n",
      "Fruits [20, 30, 40, 99] 1867071008712\n",
      "Veggies [20, 30, 40, 99] 1867071008712\n"
     ]
    }
   ],
   "source": [
    "## Behaviour with mutable objects\n",
    "Fruits = [20,30,40,50]\n",
    "Veggies = Fruits\n",
    "print(\"Fruits\",Fruits,id(Fruits))\n",
    "print(\"Veggies\",Veggies,id(Veggies),\"\\n\")\n",
    "\n",
    "Fruits[3] = 99\n",
    "print(\"Fruits\",Fruits,id(Fruits))\n",
    "print(\"Veggies\",Veggies,id(Veggies))"
   ]
  },
  {
   "cell_type": "markdown",
   "metadata": {},
   "source": [
    "## Essential operations in programming/data engineering\n",
    "1. Generating Data\n",
    "2. Accessing/Slicing Data\n",
    "3. Modifying/Deleting Data\n",
    "4. Iterating through the Data/Container"
   ]
  },
  {
   "cell_type": "markdown",
   "metadata": {},
   "source": [
    "### Generating a sequence "
   ]
  },
  {
   "cell_type": "code",
   "execution_count": 37,
   "metadata": {},
   "outputs": [
    {
     "name": "stdout",
     "output_type": "stream",
     "text": [
      "sequence1 = [0, 1, 2, 3, 4, 5, 6, 7, 8, 9, 10, 11, 12, 13, 14, 15, 16, 17, 18, 19]\n",
      "sequence2 = [50, 51, 52, 53, 54, 55, 56, 57, 58, 59]\n",
      "sequence3 = [100, 110, 120, 130, 140]\n"
     ]
    }
   ],
   "source": [
    "## Creates sequence of 20 elements starting from 0\n",
    "sequence1 = list(range(20))\n",
    "print('sequence1 =',sequence1)\n",
    "\n",
    "## Custom sequence from specific start and end points\n",
    "sequence2 = list(range(50,60))\n",
    "print('sequence2 =',sequence2)\n",
    "\n",
    "## Custom sequence from specific start and end points with variable leap\n",
    "sequence3 = list(range(100,150,10))\n",
    "print('sequence3 =',sequence3)"
   ]
  },
  {
   "cell_type": "markdown",
   "metadata": {},
   "source": [
    "### Note - start argument in inclusive but end argument in exclusive"
   ]
  },
  {
   "cell_type": "code",
   "execution_count": 42,
   "metadata": {},
   "outputs": [
    {
     "name": "stdout",
     "output_type": "stream",
     "text": [
      "[0, 1, 2, 3, 4]\n",
      "[2, 3]\n",
      "[2, 3, 4]\n",
      "[0, 1, 2, 3]\n",
      "[0, 1, 2, 3, 4]\n"
     ]
    }
   ],
   "source": [
    "nums = list(range(5))     # range is a built-in function that creates a list of integers\n",
    "print(nums)               # Prints \"[0, 1, 2, 3, 4]\"\n",
    "print(nums[2:4])          # Get a slice from index 2 to 4 (exclusive); prints \"[2, 3]\"\n",
    "print(nums[2:])           # Get a slice from index 2 to the end; prints \"[2, 3, 4]\"\n",
    "print(nums[:4])           # Get a slice from the start to index 2 (exclusive); prints \"[0, 1]\"\n",
    "print(nums[:])            # Get a slice of the whole list; prints \"[0, 1, 2, 3, 4]\"print(nums[:-1])"
   ]
  },
  {
   "cell_type": "code",
   "execution_count": 44,
   "metadata": {},
   "outputs": [
    {
     "name": "stdout",
     "output_type": "stream",
     "text": [
      "[4]\n",
      "[0, 1, 2, 3]\n"
     ]
    }
   ],
   "source": [
    "## Negative Slicing\n",
    "nums = list(range(5))\n",
    "print(nums[-1:])          # Last 2 elements \"[3,4]\"\n",
    "print(nums[:-1])          # All elements from starting till second to last (Excluding last element) \"[0, 1, 2, 3]\""
   ]
  },
  {
   "cell_type": "code",
   "execution_count": 49,
   "metadata": {},
   "outputs": [
    {
     "name": "stdout",
     "output_type": "stream",
     "text": [
      "[0, 1, 2, 3, 4, 5, 6, 7, 8, 9]\n",
      "[2, 5]\n",
      "[0, 3, 6]\n",
      "[5, 7, 9]\n",
      "[9, 8, 7, 6, 5, 4, 3, 2, 1, 0]\n",
      "[5, 4, 3, 2, 1, 0]\n",
      "[7, 5, 3]\n"
     ]
    }
   ],
   "source": [
    "## Slicing with leaps\n",
    "nums = list(range(10))\n",
    "print(nums)\n",
    "\n",
    "print(nums[2:8:3])        # Printing every 3rd element starting from 1st(inclusive) index till 8th(exclusive)\n",
    "print(nums[:8:3])         # Printing every 3rd element from the beginning till 8th(exclusive)\n",
    "print(nums[5::2])         # Printing every 2nd element from 5th(inclusive) index till the end\n",
    "\n",
    "## Negative leap will results in reverse iterations\n",
    "print(nums[::-1])         # Printing list in reverse order\n",
    "print(nums[5::-1])        # Reverse order - i.e. 5th(inclusive) index till beginning\n",
    "print(nums[7:2:-2])       # Printing every 2nd element in reverse order from 7th(inclusive) till 2nd(exclusive)"
   ]
  },
  {
   "cell_type": "markdown",
   "metadata": {},
   "source": [
    "### Functions to modify/delete data"
   ]
  },
  {
   "cell_type": "code",
   "execution_count": 17,
   "metadata": {},
   "outputs": [
    {
     "name": "stdout",
     "output_type": "stream",
     "text": [
      "[0, 99, 2, 3, 4, 5, 6, 7, 8, 9]\n",
      "[0, 99, 2, 3, 4, 55, 66, 77, 7, 8, 9]\n",
      "[0, 99, 2, 3, 4, 55, 66, 77, 7, 8, 9, 777]\n",
      "[0, 99, 2, 3, 4, 55, 66, 77, 7, 8, 9, 777, 111, 222, 333]\n",
      "11\n",
      "[0, 99, 2, 3, 4, 55, 66, 77, 7, 8, 9, 111, 222, 333]\n"
     ]
    }
   ],
   "source": [
    "## List functions\n",
    "l1 = list(range(10))\n",
    "l1[1] = 99                  # Updating a value at particular index\n",
    "print(l1)\n",
    "\n",
    "l1[5:7] = [55,66,77]        # Multiple assignments are fine as long as length of LHS = RHS\n",
    "print(l1)\n",
    "\n",
    "l1.append(777)              # Appending only 1 item at the end of list\n",
    "print(l1)\n",
    "\n",
    "l1.extend([111,222,333])    # Adding a list to list\n",
    "print(l1)\n",
    "\n",
    "print(l1.index(777))        # Find the index of first occurence\n",
    "\n",
    "l1.remove(777)              # Delete an object from list\n",
    "print(l1)\n",
    "\n",
    "l1.reverse()                # Reverse the list\n",
    "\n",
    "## For more functions please refer python documentation or online sources"
   ]
  },
  {
   "cell_type": "markdown",
   "metadata": {},
   "source": [
    "### Iterating in a Container"
   ]
  },
  {
   "cell_type": "code",
   "execution_count": 52,
   "metadata": {},
   "outputs": [
    {
     "name": "stdout",
     "output_type": "stream",
     "text": [
      "cat\n",
      "dog\n",
      "monkey\n"
     ]
    }
   ],
   "source": [
    "# Using for loop\n",
    "animals = ['cat', 'dog', 'monkey']\n",
    "for i in animals:\n",
    "    print(i)"
   ]
  },
  {
   "cell_type": "code",
   "execution_count": 54,
   "metadata": {},
   "outputs": [
    {
     "name": "stdout",
     "output_type": "stream",
     "text": [
      "Index 1: cat\n",
      "Index 2: dog\n",
      "Index 3: monkey\n"
     ]
    }
   ],
   "source": [
    "    # Iterating with index\n",
    "    animals = ['cat', 'dog', 'monkey']\n",
    "    for idx, animal in enumerate(animals):\n",
    "        print('Index %d: %s' % (idx + 1, animal))"
   ]
  },
  {
   "cell_type": "markdown",
   "metadata": {},
   "source": [
    "### Why List Comprehension?"
   ]
  },
  {
   "cell_type": "code",
   "execution_count": 55,
   "metadata": {},
   "outputs": [
    {
     "name": "stdout",
     "output_type": "stream",
     "text": [
      "[0, 1, 4, 9, 16, 25]\n"
     ]
    }
   ],
   "source": [
    "## List of squares using for Loop\n",
    "nums = list(range(6))\n",
    "squares = []\n",
    "for x in nums:\n",
    "    squares.append(x ** 2)\n",
    "print(squares)"
   ]
  },
  {
   "cell_type": "code",
   "execution_count": 56,
   "metadata": {},
   "outputs": [
    {
     "name": "stdout",
     "output_type": "stream",
     "text": [
      "[0, 1, 4, 9, 16, 25]\n"
     ]
    }
   ],
   "source": [
    "## List of squares using list comprehension\n",
    "nums = list(range(6))\n",
    "squares = [x ** 2 for x in nums]\n",
    "print(squares)"
   ]
  },
  {
   "cell_type": "code",
   "execution_count": 57,
   "metadata": {},
   "outputs": [
    {
     "name": "stdout",
     "output_type": "stream",
     "text": [
      "[0, 4, 16]\n"
     ]
    }
   ],
   "source": [
    "## Versatile enough to accomodate conditions\n",
    "nums = list(range(6))\n",
    "even_squares = [x ** 2 for x in nums if x % 2 == 0]\n",
    "print(even_squares)"
   ]
  },
  {
   "cell_type": "markdown",
   "metadata": {},
   "source": [
    "## Dictionaries\n",
    "\n",
    "* Keys and Values"
   ]
  },
  {
   "cell_type": "code",
   "execution_count": 62,
   "metadata": {},
   "outputs": [
    {
     "name": "stdout",
     "output_type": "stream",
     "text": [
      "cute\n",
      "True\n",
      "{'cat': 'cute', 'dog': 'furry', 'fish': 'wet'}\n"
     ]
    }
   ],
   "source": [
    "d = {'cat': 'cute', 'dog': 'furry'}  # Create a new dictionary with some data\n",
    "\n",
    "print(d['cat'])       # Get an entry from a dictionary; prints \"cute\"\n",
    "\n",
    "print('cat' in d)     # Check if a dictionary has a given key; prints \"True\"\n",
    "\n",
    "d['fish'] = 'wet'     # Add entry in a dictionary\n",
    "\n",
    "print(d)"
   ]
  },
  {
   "cell_type": "code",
   "execution_count": 64,
   "metadata": {},
   "outputs": [
    {
     "name": "stdout",
     "output_type": "stream",
     "text": [
      "person\n",
      "cat\n",
      "spider\n",
      "2\n",
      "4\n",
      "8\n"
     ]
    }
   ],
   "source": [
    "d = {'person': 2, 'cat': 4, 'spider': 8}\n",
    "\n",
    "for i in d:           # By default iterates through keys\n",
    "    print(i)\n",
    "    \n",
    "for i in d.values():  # dictionary.values() will iterate through values\n",
    "    print(i)"
   ]
  },
  {
   "cell_type": "code",
   "execution_count": 66,
   "metadata": {},
   "outputs": [
    {
     "name": "stdout",
     "output_type": "stream",
     "text": [
      "A person has 2 legs\n",
      "A cat has 4 legs\n",
      "A spider has 8 legs\n",
      "A person has 2 legs\n",
      "A cat has 4 legs\n",
      "A spider has 8 legs\n"
     ]
    }
   ],
   "source": [
    "d = {'person': 2, 'cat': 4, 'spider': 8}\n",
    "\n",
    "for key, value in d.items():                # dictionary.items() will give you key value pairs\n",
    "    print('A %s has %d legs' % (key, value))\n",
    "\n",
    "for animal, legs in d.items():              # can be substituted with meaningful names\n",
    "    print('A %s has %d legs' % (animal, legs))"
   ]
  },
  {
   "cell_type": "code",
   "execution_count": 67,
   "metadata": {},
   "outputs": [
    {
     "name": "stdout",
     "output_type": "stream",
     "text": [
      "0 is even\n",
      "5 is odd\n",
      "10 is even\n",
      "15 is odd\n",
      "20 is even\n",
      "25 is odd\n",
      "30 is even\n",
      "35 is odd\n",
      "40 is even\n",
      "45 is odd\n",
      "50 is even\n",
      "55 is odd\n",
      "60 is even\n",
      "65 is odd\n",
      "70 is even\n",
      "75 is odd\n",
      "80 is even\n",
      "85 is odd\n",
      "90 is even\n",
      "95 is odd\n"
     ]
    }
   ],
   "source": [
    "for i in range(0, 100, 5):\n",
    "    if (i % 2) == 0:\n",
    "        print(\"%d is even\" %(i))\n",
    "    elif (i % 2) != 0:\n",
    "        print(\"%d is odd\" %(i))"
   ]
  },
  {
   "cell_type": "code",
   "execution_count": 68,
   "metadata": {},
   "outputs": [
    {
     "name": "stdout",
     "output_type": "stream",
     "text": [
      "1\n",
      "2\n",
      "3\n",
      "4\n",
      "5\n"
     ]
    }
   ],
   "source": [
    "i = 1\n",
    "while i < 6:\n",
    "  print(i)\n",
    "  i += 1"
   ]
  },
  {
   "cell_type": "code",
   "execution_count": 10,
   "metadata": {},
   "outputs": [
    {
     "name": "stdout",
     "output_type": "stream",
     "text": [
      "1\n",
      "2\n",
      "3\n"
     ]
    }
   ],
   "source": [
    "i = 1\n",
    "while i < 6:\n",
    "  print(i)\n",
    "  if i == 3:\n",
    "    break\n",
    "  i += 1"
   ]
  },
  {
   "cell_type": "code",
   "execution_count": 11,
   "metadata": {},
   "outputs": [
    {
     "name": "stdout",
     "output_type": "stream",
     "text": [
      "1\n",
      "2\n",
      "4\n",
      "5\n",
      "6\n"
     ]
    }
   ],
   "source": [
    "i = 0\n",
    "while i < 6:\n",
    "  i += 1\n",
    "  if i == 3:\n",
    "    continue\n",
    "  print(i)"
   ]
  },
  {
   "cell_type": "code",
   "execution_count": 70,
   "metadata": {},
   "outputs": [
    {
     "name": "stdout",
     "output_type": "stream",
     "text": [
      "1\n",
      "2\n",
      "3\n",
      "4\n",
      "5\n",
      "i is no longer less than 6\n"
     ]
    }
   ],
   "source": [
    "i = 1\n",
    "while i < 6:\n",
    "  print(i)\n",
    "  i += 1\n",
    "else:\n",
    "  print(\"i is no longer less than 6\")"
   ]
  },
  {
   "cell_type": "code",
   "execution_count": 13,
   "metadata": {},
   "outputs": [],
   "source": [
    "def areaSquare( side ): \n",
    "    area = side * side \n",
    "    return area "
   ]
  },
  {
   "cell_type": "code",
   "execution_count": 71,
   "metadata": {},
   "outputs": [
    {
     "name": "stdout",
     "output_type": "stream",
     "text": [
      "36\n"
     ]
    }
   ],
   "source": [
    "#side = 4\n",
    "print(areaSquare(6))"
   ]
  },
  {
   "cell_type": "code",
   "execution_count": 15,
   "metadata": {},
   "outputs": [],
   "source": [
    "class ComplexNumber:\n",
    "    def __init__(self,r = 0,i = 0):\n",
    "        self.real = r\n",
    "        self.imag = i\n",
    "\n",
    "    def getData(self):\n",
    "        print(\"{0}+{1}j\".format(self.real,self.imag))"
   ]
  },
  {
   "cell_type": "code",
   "execution_count": 17,
   "metadata": {},
   "outputs": [
    {
     "name": "stdout",
     "output_type": "stream",
     "text": [
      "2+3j\n",
      "(5, 0, 10)\n"
     ]
    }
   ],
   "source": [
    "# Create a new ComplexNumber object\n",
    "c1 = ComplexNumber(2,3)\n",
    "\n",
    "# Call getData() function\n",
    "# Output: 2+3j\n",
    "c1.getData()\n",
    "\n",
    "# Create another ComplexNumber object\n",
    "# and create a new attribute 'attr'\n",
    "c2 = ComplexNumber(5)\n",
    "c2.attr = 10\n",
    "\n",
    "# Output: (5, 0, 10)\n",
    "print((c2.real, c2.imag, c2.attr))\n"
   ]
  },
  {
   "cell_type": "code",
   "execution_count": null,
   "metadata": {},
   "outputs": [],
   "source": []
  },
  {
   "cell_type": "markdown",
   "metadata": {
    "collapsed": true
   },
   "source": [
    "## Pandas DataFrame\n"
   ]
  },
  {
   "cell_type": "code",
   "execution_count": 27,
   "metadata": {
    "collapsed": true
   },
   "outputs": [],
   "source": [
    "# import pandas\n",
    "import pandas as pd"
   ]
  },
  {
   "cell_type": "code",
   "execution_count": 28,
   "metadata": {},
   "outputs": [
    {
     "name": "stdout",
     "output_type": "stream",
     "text": [
      "(577, 18)\n",
      "Index(['id', 'season', 'city', 'date', 'team1', 'team2', 'toss_winner',\n",
      "       'toss_decision', 'result', 'dl_applied', 'winner', 'win_by_runs',\n",
      "       'win_by_wickets', 'player_of_match', 'venue', 'umpire1', 'umpire2',\n",
      "       'umpire3'],\n",
      "      dtype='object')\n",
      "RangeIndex(start=0, stop=577, step=1)\n",
      "id                   int64\n",
      "season               int64\n",
      "city                object\n",
      "date                object\n",
      "team1               object\n",
      "team2               object\n",
      "toss_winner         object\n",
      "toss_decision       object\n",
      "result              object\n",
      "dl_applied           int64\n",
      "winner              object\n",
      "win_by_runs          int64\n",
      "win_by_wickets       int64\n",
      "player_of_match     object\n",
      "venue               object\n",
      "umpire1             object\n",
      "umpire2             object\n",
      "umpire3            float64\n",
      "dtype: object\n"
     ]
    }
   ],
   "source": [
    "#read matches.csv from data folder\n",
    "#print ts shape, columns and first 10 index (df.index) and needs to be inside list\n",
    "# print head of df\n",
    "df=pd.read_csv('./matches.csv')\n",
    "\n",
    "print(df.shape)         # dim() in R - Dimentions of data\n",
    "print(df.columns)       # colnames() in R - Column Namesprint(list(df.index)[:10])\n",
    "print(df.index)         # rownames() in R - Row Indexes\n",
    "print(df.dtypes)        # str() in R - Data types"
   ]
  },
  {
   "cell_type": "code",
   "execution_count": 29,
   "metadata": {},
   "outputs": [
    {
     "data": {
      "text/html": [
       "<div>\n",
       "<table border=\"1\" class=\"dataframe\">\n",
       "  <thead>\n",
       "    <tr style=\"text-align: right;\">\n",
       "      <th></th>\n",
       "      <th>id</th>\n",
       "      <th>season</th>\n",
       "      <th>city</th>\n",
       "      <th>date</th>\n",
       "      <th>team1</th>\n",
       "      <th>team2</th>\n",
       "      <th>toss_winner</th>\n",
       "      <th>toss_decision</th>\n",
       "      <th>result</th>\n",
       "      <th>dl_applied</th>\n",
       "      <th>winner</th>\n",
       "      <th>win_by_runs</th>\n",
       "      <th>win_by_wickets</th>\n",
       "      <th>player_of_match</th>\n",
       "      <th>venue</th>\n",
       "      <th>umpire1</th>\n",
       "      <th>umpire2</th>\n",
       "      <th>umpire3</th>\n",
       "    </tr>\n",
       "  </thead>\n",
       "  <tbody>\n",
       "    <tr>\n",
       "      <th>0</th>\n",
       "      <td>1</td>\n",
       "      <td>2008</td>\n",
       "      <td>Bangalore</td>\n",
       "      <td>2008-04-18</td>\n",
       "      <td>Kolkata Knight Riders</td>\n",
       "      <td>Royal Challengers Bangalore</td>\n",
       "      <td>Royal Challengers Bangalore</td>\n",
       "      <td>field</td>\n",
       "      <td>normal</td>\n",
       "      <td>0</td>\n",
       "      <td>Kolkata Knight Riders</td>\n",
       "      <td>140</td>\n",
       "      <td>0</td>\n",
       "      <td>BB McCullum</td>\n",
       "      <td>M Chinnaswamy Stadium</td>\n",
       "      <td>Asad Rauf</td>\n",
       "      <td>RE Koertzen</td>\n",
       "      <td>NaN</td>\n",
       "    </tr>\n",
       "    <tr>\n",
       "      <th>1</th>\n",
       "      <td>2</td>\n",
       "      <td>2008</td>\n",
       "      <td>Chandigarh</td>\n",
       "      <td>2008-04-19</td>\n",
       "      <td>Chennai Super Kings</td>\n",
       "      <td>Kings XI Punjab</td>\n",
       "      <td>Chennai Super Kings</td>\n",
       "      <td>bat</td>\n",
       "      <td>normal</td>\n",
       "      <td>0</td>\n",
       "      <td>Chennai Super Kings</td>\n",
       "      <td>33</td>\n",
       "      <td>0</td>\n",
       "      <td>MEK Hussey</td>\n",
       "      <td>Punjab Cricket Association Stadium, Mohali</td>\n",
       "      <td>MR Benson</td>\n",
       "      <td>SL Shastri</td>\n",
       "      <td>NaN</td>\n",
       "    </tr>\n",
       "    <tr>\n",
       "      <th>2</th>\n",
       "      <td>3</td>\n",
       "      <td>2008</td>\n",
       "      <td>Delhi</td>\n",
       "      <td>2008-04-19</td>\n",
       "      <td>Rajasthan Royals</td>\n",
       "      <td>Delhi Daredevils</td>\n",
       "      <td>Rajasthan Royals</td>\n",
       "      <td>bat</td>\n",
       "      <td>normal</td>\n",
       "      <td>0</td>\n",
       "      <td>Delhi Daredevils</td>\n",
       "      <td>0</td>\n",
       "      <td>9</td>\n",
       "      <td>MF Maharoof</td>\n",
       "      <td>Feroz Shah Kotla</td>\n",
       "      <td>Aleem Dar</td>\n",
       "      <td>GA Pratapkumar</td>\n",
       "      <td>NaN</td>\n",
       "    </tr>\n",
       "    <tr>\n",
       "      <th>3</th>\n",
       "      <td>4</td>\n",
       "      <td>2008</td>\n",
       "      <td>Mumbai</td>\n",
       "      <td>2008-04-20</td>\n",
       "      <td>Mumbai Indians</td>\n",
       "      <td>Royal Challengers Bangalore</td>\n",
       "      <td>Mumbai Indians</td>\n",
       "      <td>bat</td>\n",
       "      <td>normal</td>\n",
       "      <td>0</td>\n",
       "      <td>Royal Challengers Bangalore</td>\n",
       "      <td>0</td>\n",
       "      <td>5</td>\n",
       "      <td>MV Boucher</td>\n",
       "      <td>Wankhede Stadium</td>\n",
       "      <td>SJ Davis</td>\n",
       "      <td>DJ Harper</td>\n",
       "      <td>NaN</td>\n",
       "    </tr>\n",
       "    <tr>\n",
       "      <th>4</th>\n",
       "      <td>5</td>\n",
       "      <td>2008</td>\n",
       "      <td>Kolkata</td>\n",
       "      <td>2008-04-20</td>\n",
       "      <td>Deccan Chargers</td>\n",
       "      <td>Kolkata Knight Riders</td>\n",
       "      <td>Deccan Chargers</td>\n",
       "      <td>bat</td>\n",
       "      <td>normal</td>\n",
       "      <td>0</td>\n",
       "      <td>Kolkata Knight Riders</td>\n",
       "      <td>0</td>\n",
       "      <td>5</td>\n",
       "      <td>DJ Hussey</td>\n",
       "      <td>Eden Gardens</td>\n",
       "      <td>BF Bowden</td>\n",
       "      <td>K Hariharan</td>\n",
       "      <td>NaN</td>\n",
       "    </tr>\n",
       "  </tbody>\n",
       "</table>\n",
       "</div>"
      ],
      "text/plain": [
       "   id  season        city        date                  team1  \\\n",
       "0   1    2008   Bangalore  2008-04-18  Kolkata Knight Riders   \n",
       "1   2    2008  Chandigarh  2008-04-19    Chennai Super Kings   \n",
       "2   3    2008       Delhi  2008-04-19       Rajasthan Royals   \n",
       "3   4    2008      Mumbai  2008-04-20         Mumbai Indians   \n",
       "4   5    2008     Kolkata  2008-04-20        Deccan Chargers   \n",
       "\n",
       "                         team2                  toss_winner toss_decision  \\\n",
       "0  Royal Challengers Bangalore  Royal Challengers Bangalore         field   \n",
       "1              Kings XI Punjab          Chennai Super Kings           bat   \n",
       "2             Delhi Daredevils             Rajasthan Royals           bat   \n",
       "3  Royal Challengers Bangalore               Mumbai Indians           bat   \n",
       "4        Kolkata Knight Riders              Deccan Chargers           bat   \n",
       "\n",
       "   result  dl_applied                       winner  win_by_runs  \\\n",
       "0  normal           0        Kolkata Knight Riders          140   \n",
       "1  normal           0          Chennai Super Kings           33   \n",
       "2  normal           0             Delhi Daredevils            0   \n",
       "3  normal           0  Royal Challengers Bangalore            0   \n",
       "4  normal           0        Kolkata Knight Riders            0   \n",
       "\n",
       "   win_by_wickets player_of_match                                       venue  \\\n",
       "0               0     BB McCullum                       M Chinnaswamy Stadium   \n",
       "1               0      MEK Hussey  Punjab Cricket Association Stadium, Mohali   \n",
       "2               9     MF Maharoof                            Feroz Shah Kotla   \n",
       "3               5      MV Boucher                            Wankhede Stadium   \n",
       "4               5       DJ Hussey                                Eden Gardens   \n",
       "\n",
       "     umpire1         umpire2  umpire3  \n",
       "0  Asad Rauf     RE Koertzen      NaN  \n",
       "1  MR Benson      SL Shastri      NaN  \n",
       "2  Aleem Dar  GA Pratapkumar      NaN  \n",
       "3   SJ Davis       DJ Harper      NaN  \n",
       "4  BF Bowden     K Hariharan      NaN  "
      ]
     },
     "execution_count": 29,
     "metadata": {},
     "output_type": "execute_result"
    }
   ],
   "source": [
    "df.head()"
   ]
  },
  {
   "cell_type": "markdown",
   "metadata": {},
   "source": [
    "### Subsetting DataFrames"
   ]
  },
  {
   "cell_type": "code",
   "execution_count": 30,
   "metadata": {},
   "outputs": [
    {
     "data": {
      "text/html": [
       "<div>\n",
       "<table border=\"1\" class=\"dataframe\">\n",
       "  <thead>\n",
       "    <tr style=\"text-align: right;\">\n",
       "      <th></th>\n",
       "      <th>team1</th>\n",
       "      <th>team2</th>\n",
       "      <th>winner</th>\n",
       "    </tr>\n",
       "  </thead>\n",
       "  <tbody>\n",
       "    <tr>\n",
       "      <th>0</th>\n",
       "      <td>Kolkata Knight Riders</td>\n",
       "      <td>Royal Challengers Bangalore</td>\n",
       "      <td>Kolkata Knight Riders</td>\n",
       "    </tr>\n",
       "    <tr>\n",
       "      <th>10</th>\n",
       "      <td>Royal Challengers Bangalore</td>\n",
       "      <td>Rajasthan Royals</td>\n",
       "      <td>Rajasthan Royals</td>\n",
       "    </tr>\n",
       "    <tr>\n",
       "      <th>14</th>\n",
       "      <td>Chennai Super Kings</td>\n",
       "      <td>Royal Challengers Bangalore</td>\n",
       "      <td>Chennai Super Kings</td>\n",
       "    </tr>\n",
       "    <tr>\n",
       "      <th>24</th>\n",
       "      <td>Royal Challengers Bangalore</td>\n",
       "      <td>Kings XI Punjab</td>\n",
       "      <td>Kings XI Punjab</td>\n",
       "    </tr>\n",
       "    <tr>\n",
       "      <th>30</th>\n",
       "      <td>Royal Challengers Bangalore</td>\n",
       "      <td>Mumbai Indians</td>\n",
       "      <td>Mumbai Indians</td>\n",
       "    </tr>\n",
       "  </tbody>\n",
       "</table>\n",
       "</div>"
      ],
      "text/plain": [
       "                          team1                        team2  \\\n",
       "0         Kolkata Knight Riders  Royal Challengers Bangalore   \n",
       "10  Royal Challengers Bangalore             Rajasthan Royals   \n",
       "14          Chennai Super Kings  Royal Challengers Bangalore   \n",
       "24  Royal Challengers Bangalore              Kings XI Punjab   \n",
       "30  Royal Challengers Bangalore               Mumbai Indians   \n",
       "\n",
       "                   winner  \n",
       "0   Kolkata Knight Riders  \n",
       "10       Rajasthan Royals  \n",
       "14    Chennai Super Kings  \n",
       "24        Kings XI Punjab  \n",
       "30         Mumbai Indians  "
      ]
     },
     "execution_count": 30,
     "metadata": {},
     "output_type": "execute_result"
    }
   ],
   "source": [
    "# Only Bangalore games\n",
    "bangalore = df[df['city']=='Bangalore']\n",
    "\n",
    "# Extracting columns\n",
    "bangalore[['team1','team2','winner']].head()"
   ]
  },
  {
   "cell_type": "code",
   "execution_count": 31,
   "metadata": {},
   "outputs": [
    {
     "data": {
      "text/html": [
       "<div>\n",
       "<table border=\"1\" class=\"dataframe\">\n",
       "  <thead>\n",
       "    <tr style=\"text-align: right;\">\n",
       "      <th></th>\n",
       "      <th>season</th>\n",
       "      <th>toss_winner</th>\n",
       "    </tr>\n",
       "  </thead>\n",
       "  <tbody>\n",
       "    <tr>\n",
       "      <th>0</th>\n",
       "      <td>2008</td>\n",
       "      <td>Royal Challengers Bangalore</td>\n",
       "    </tr>\n",
       "    <tr>\n",
       "      <th>1</th>\n",
       "      <td>2008</td>\n",
       "      <td>Chennai Super Kings</td>\n",
       "    </tr>\n",
       "    <tr>\n",
       "      <th>2</th>\n",
       "      <td>2008</td>\n",
       "      <td>Rajasthan Royals</td>\n",
       "    </tr>\n",
       "    <tr>\n",
       "      <th>3</th>\n",
       "      <td>2008</td>\n",
       "      <td>Mumbai Indians</td>\n",
       "    </tr>\n",
       "    <tr>\n",
       "      <th>4</th>\n",
       "      <td>2008</td>\n",
       "      <td>Deccan Chargers</td>\n",
       "    </tr>\n",
       "  </tbody>\n",
       "</table>\n",
       "</div>"
      ],
      "text/plain": [
       "   season                  toss_winner\n",
       "0    2008  Royal Challengers Bangalore\n",
       "1    2008          Chennai Super Kings\n",
       "2    2008             Rajasthan Royals\n",
       "3    2008               Mumbai Indians\n",
       "4    2008              Deccan Chargers"
      ]
     },
     "execution_count": 31,
     "metadata": {},
     "output_type": "execute_result"
    }
   ],
   "source": [
    "# Use isin() function to match multiple values in same column \n",
    "# Get toss_winner from above subset\n",
    "\n",
    "df[df['season'].isin([2008,2015])][['season','toss_winner']].head()"
   ]
  },
  {
   "cell_type": "code",
   "execution_count": 32,
   "metadata": {},
   "outputs": [
    {
     "name": "stdout",
     "output_type": "stream",
     "text": [
      "Mumbai Indians                 80\n",
      "Chennai Super Kings            79\n",
      "Royal Challengers Bangalore    70\n",
      "Kolkata Knight Riders          68\n",
      "Rajasthan Royals               63\n",
      "Name: winner, dtype: int64\n"
     ]
    }
   ],
   "source": [
    "winner = df['winner'].value_counts()       # table() in R - Frequency count\n",
    "print(winner.head())"
   ]
  },
  {
   "cell_type": "code",
   "execution_count": 33,
   "metadata": {},
   "outputs": [
    {
     "name": "stdout",
     "output_type": "stream",
     "text": [
      "3\n"
     ]
    }
   ],
   "source": [
    "nas = df['winner'].isnull().sum()          # is.na() in R - Returns list of boolean\n",
    "                                           # sum() gives total of na values\n",
    "print(nas)"
   ]
  },
  {
   "cell_type": "markdown",
   "metadata": {},
   "source": [
    "### Changing index for faster access"
   ]
  },
  {
   "cell_type": "code",
   "execution_count": 34,
   "metadata": {
    "collapsed": true
   },
   "outputs": [],
   "source": [
    "df.set_index('date',inplace=True)      # Setting date column as index"
   ]
  },
  {
   "cell_type": "markdown",
   "metadata": {},
   "source": [
    "## Indexing\n",
    "1. loc     (Row/Column labels)\n",
    "2. iloc    (Row/Column index)\n",
    "3. ix      (Mixed mode - Depricated)"
   ]
  },
  {
   "cell_type": "code",
   "execution_count": 165,
   "metadata": {},
   "outputs": [
    {
     "name": "stdout",
     "output_type": "stream",
     "text": [
      "date\n",
      "2008-04-18    Bangalore\n",
      "2008-04-26    Bangalore\n",
      "2008-04-26      Chennai\n",
      "Name: city, dtype: object\n"
     ]
    }
   ],
   "source": [
    "## loc\n",
    "print(df.loc[['2008-04-18','2008-04-26'],'city'])"
   ]
  },
  {
   "cell_type": "code",
   "execution_count": 166,
   "metadata": {},
   "outputs": [
    {
     "data": {
      "text/html": [
       "<div>\n",
       "<table border=\"1\" class=\"dataframe\">\n",
       "  <thead>\n",
       "    <tr style=\"text-align: right;\">\n",
       "      <th></th>\n",
       "      <th>team1</th>\n",
       "      <th>team2</th>\n",
       "    </tr>\n",
       "    <tr>\n",
       "      <th>date</th>\n",
       "      <th></th>\n",
       "      <th></th>\n",
       "    </tr>\n",
       "  </thead>\n",
       "  <tbody>\n",
       "    <tr>\n",
       "      <th>2008-04-18</th>\n",
       "      <td>Kolkata Knight Riders</td>\n",
       "      <td>Royal Challengers Bangalore</td>\n",
       "    </tr>\n",
       "    <tr>\n",
       "      <th>2008-04-19</th>\n",
       "      <td>Chennai Super Kings</td>\n",
       "      <td>Kings XI Punjab</td>\n",
       "    </tr>\n",
       "    <tr>\n",
       "      <th>2008-04-19</th>\n",
       "      <td>Rajasthan Royals</td>\n",
       "      <td>Delhi Daredevils</td>\n",
       "    </tr>\n",
       "    <tr>\n",
       "      <th>2008-04-20</th>\n",
       "      <td>Mumbai Indians</td>\n",
       "      <td>Royal Challengers Bangalore</td>\n",
       "    </tr>\n",
       "    <tr>\n",
       "      <th>2008-04-20</th>\n",
       "      <td>Deccan Chargers</td>\n",
       "      <td>Kolkata Knight Riders</td>\n",
       "    </tr>\n",
       "    <tr>\n",
       "      <th>2008-04-21</th>\n",
       "      <td>Kings XI Punjab</td>\n",
       "      <td>Rajasthan Royals</td>\n",
       "    </tr>\n",
       "  </tbody>\n",
       "</table>\n",
       "</div>"
      ],
      "text/plain": [
       "                            team1                        team2\n",
       "date                                                          \n",
       "2008-04-18  Kolkata Knight Riders  Royal Challengers Bangalore\n",
       "2008-04-19    Chennai Super Kings              Kings XI Punjab\n",
       "2008-04-19       Rajasthan Royals             Delhi Daredevils\n",
       "2008-04-20         Mumbai Indians  Royal Challengers Bangalore\n",
       "2008-04-20        Deccan Chargers        Kolkata Knight Riders\n",
       "2008-04-21        Kings XI Punjab             Rajasthan Royals"
      ]
     },
     "execution_count": 166,
     "metadata": {},
     "output_type": "execute_result"
    }
   ],
   "source": [
    "df.loc['2008-04-18':'2008-04-21',['team1','team2']]"
   ]
  },
  {
   "cell_type": "code",
   "execution_count": 167,
   "metadata": {},
   "outputs": [
    {
     "data": {
      "text/html": [
       "<div>\n",
       "<table border=\"1\" class=\"dataframe\">\n",
       "  <thead>\n",
       "    <tr style=\"text-align: right;\">\n",
       "      <th></th>\n",
       "      <th>city</th>\n",
       "      <th>team1</th>\n",
       "      <th>team2</th>\n",
       "      <th>toss_winner</th>\n",
       "      <th>toss_decision</th>\n",
       "    </tr>\n",
       "    <tr>\n",
       "      <th>date</th>\n",
       "      <th></th>\n",
       "      <th></th>\n",
       "      <th></th>\n",
       "      <th></th>\n",
       "      <th></th>\n",
       "    </tr>\n",
       "  </thead>\n",
       "  <tbody>\n",
       "    <tr>\n",
       "      <th>2008-04-19</th>\n",
       "      <td>Chandigarh</td>\n",
       "      <td>Chennai Super Kings</td>\n",
       "      <td>Kings XI Punjab</td>\n",
       "      <td>Chennai Super Kings</td>\n",
       "      <td>bat</td>\n",
       "    </tr>\n",
       "    <tr>\n",
       "      <th>2008-04-19</th>\n",
       "      <td>Delhi</td>\n",
       "      <td>Rajasthan Royals</td>\n",
       "      <td>Delhi Daredevils</td>\n",
       "      <td>Rajasthan Royals</td>\n",
       "      <td>bat</td>\n",
       "    </tr>\n",
       "  </tbody>\n",
       "</table>\n",
       "</div>"
      ],
      "text/plain": [
       "                  city                team1             team2  \\\n",
       "date                                                            \n",
       "2008-04-19  Chandigarh  Chennai Super Kings   Kings XI Punjab   \n",
       "2008-04-19       Delhi     Rajasthan Royals  Delhi Daredevils   \n",
       "\n",
       "                    toss_winner toss_decision  \n",
       "date                                           \n",
       "2008-04-19  Chennai Super Kings           bat  \n",
       "2008-04-19     Rajasthan Royals           bat  "
      ]
     },
     "execution_count": 167,
     "metadata": {},
     "output_type": "execute_result"
    }
   ],
   "source": [
    "## Only numeric indexing in iloc\n",
    "df.iloc[1:3,2:7]"
   ]
  },
  {
   "cell_type": "markdown",
   "metadata": {},
   "source": [
    "### Missing Values"
   ]
  },
  {
   "cell_type": "code",
   "execution_count": 16,
   "metadata": {},
   "outputs": [
    {
     "ename": "NameError",
     "evalue": "name 'df' is not defined",
     "output_type": "error",
     "traceback": [
      "\u001b[1;31m---------------------------------------------------------------------------\u001b[0m",
      "\u001b[1;31mNameError\u001b[0m                                 Traceback (most recent call last)",
      "\u001b[1;32m<ipython-input-16-d5c712dd5c8c>\u001b[0m in \u001b[0;36m<module>\u001b[1;34m()\u001b[0m\n\u001b[0;32m      1\u001b[0m \u001b[1;31m#filla atribute on df city. inplace true. bfill method\u001b[0m\u001b[1;33m\u001b[0m\u001b[1;33m\u001b[0m\u001b[0m\n\u001b[0;32m      2\u001b[0m \u001b[1;31m#check with isnull sum\u001b[0m\u001b[1;33m\u001b[0m\u001b[1;33m\u001b[0m\u001b[0m\n\u001b[1;32m----> 3\u001b[1;33m \u001b[0mnas_list\u001b[0m \u001b[1;33m=\u001b[0m \u001b[0mdf\u001b[0m\u001b[1;33m[\u001b[0m\u001b[1;34m'city'\u001b[0m\u001b[1;33m]\u001b[0m\u001b[1;33m.\u001b[0m\u001b[0misnull\u001b[0m\u001b[1;33m(\u001b[0m\u001b[1;33m)\u001b[0m\u001b[1;33m\u001b[0m\u001b[0m\n\u001b[0m\u001b[0;32m      4\u001b[0m \u001b[0mprint\u001b[0m\u001b[1;33m(\u001b[0m\u001b[0mdf\u001b[0m\u001b[1;33m[\u001b[0m\u001b[0mnas_list\u001b[0m\u001b[1;33m]\u001b[0m\u001b[1;33m.\u001b[0m\u001b[0miloc\u001b[0m\u001b[1;33m[\u001b[0m\u001b[1;33m:\u001b[0m\u001b[1;33m,\u001b[0m\u001b[1;36m1\u001b[0m\u001b[1;33m:\u001b[0m\u001b[1;36m5\u001b[0m\u001b[1;33m]\u001b[0m\u001b[1;33m)\u001b[0m\u001b[1;33m\u001b[0m\u001b[0m\n",
      "\u001b[1;31mNameError\u001b[0m: name 'df' is not defined"
     ]
    }
   ],
   "source": [
    "#filla atribute on df city. inplace true. bfill method\n",
    "#check with isnull sum\n",
    "nas_list = df['city'].isnull()\n",
    "print(df[nas_list].iloc[:,1:5])"
   ]
  },
  {
   "cell_type": "markdown",
   "metadata": {},
   "source": [
    "## Imputation"
   ]
  },
  {
   "cell_type": "code",
   "execution_count": 36,
   "metadata": {},
   "outputs": [
    {
     "name": "stdout",
     "output_type": "stream",
     "text": [
      "            season       city                        team1  \\\n",
      "date                                                         \n",
      "2014-04-19    2014    Sharjah               Mumbai Indians   \n",
      "2014-04-19    2014    Sharjah        Kolkata Knight Riders   \n",
      "2014-04-23    2014    Sharjah          Chennai Super Kings   \n",
      "2014-04-25    2014  Abu Dhabi          Sunrisers Hyderabad   \n",
      "2014-04-25    2014  Abu Dhabi               Mumbai Indians   \n",
      "2014-04-28    2014  Abu Dhabi  Royal Challengers Bangalore   \n",
      "2014-04-30    2014     Ranchi          Sunrisers Hyderabad   \n",
      "\n",
      "                                  team2  \n",
      "date                                     \n",
      "2014-04-19  Royal Challengers Bangalore  \n",
      "2014-04-19             Delhi Daredevils  \n",
      "2014-04-23             Rajasthan Royals  \n",
      "2014-04-25             Delhi Daredevils  \n",
      "2014-04-25          Chennai Super Kings  \n",
      "2014-04-28              Kings XI Punjab  \n",
      "2014-04-30               Mumbai Indians  \n"
     ]
    }
   ],
   "source": [
    "#new_df = df.copy\n",
    "#new_df['city'].fillna('bfill')\n",
    "df['city'].fillna(method='bfill',inplace=True)\n",
    "print(df[nas_list].iloc[:,1:5])"
   ]
  },
  {
   "cell_type": "markdown",
   "metadata": {},
   "source": [
    "### Replace specific values"
   ]
  },
  {
   "cell_type": "code",
   "execution_count": 37,
   "metadata": {},
   "outputs": [
    {
     "data": {
      "text/html": [
       "<div>\n",
       "<table border=\"1\" class=\"dataframe\">\n",
       "  <thead>\n",
       "    <tr style=\"text-align: right;\">\n",
       "      <th></th>\n",
       "      <th>team1</th>\n",
       "      <th>team2</th>\n",
       "      <th>winner</th>\n",
       "    </tr>\n",
       "    <tr>\n",
       "      <th>date</th>\n",
       "      <th></th>\n",
       "      <th></th>\n",
       "      <th></th>\n",
       "    </tr>\n",
       "  </thead>\n",
       "  <tbody>\n",
       "    <tr>\n",
       "      <th>2008-04-18</th>\n",
       "      <td>KKR</td>\n",
       "      <td>Royal Challengers Bangalore</td>\n",
       "      <td>KKR</td>\n",
       "    </tr>\n",
       "    <tr>\n",
       "      <th>2008-04-19</th>\n",
       "      <td>Chennai Super Kings</td>\n",
       "      <td>Kings XI Punjab</td>\n",
       "      <td>Chennai Super Kings</td>\n",
       "    </tr>\n",
       "    <tr>\n",
       "      <th>2008-04-19</th>\n",
       "      <td>Rajasthan Royals</td>\n",
       "      <td>Delhi Daredevils</td>\n",
       "      <td>Delhi Daredevils</td>\n",
       "    </tr>\n",
       "    <tr>\n",
       "      <th>2008-04-20</th>\n",
       "      <td>Mumbai Indians</td>\n",
       "      <td>Royal Challengers Bangalore</td>\n",
       "      <td>Royal Challengers Bangalore</td>\n",
       "    </tr>\n",
       "    <tr>\n",
       "      <th>2008-04-20</th>\n",
       "      <td>Deccan Chargers</td>\n",
       "      <td>KKR</td>\n",
       "      <td>KKR</td>\n",
       "    </tr>\n",
       "  </tbody>\n",
       "</table>\n",
       "</div>"
      ],
      "text/plain": [
       "                          team1                        team2  \\\n",
       "date                                                           \n",
       "2008-04-18                  KKR  Royal Challengers Bangalore   \n",
       "2008-04-19  Chennai Super Kings              Kings XI Punjab   \n",
       "2008-04-19     Rajasthan Royals             Delhi Daredevils   \n",
       "2008-04-20       Mumbai Indians  Royal Challengers Bangalore   \n",
       "2008-04-20      Deccan Chargers                          KKR   \n",
       "\n",
       "                                 winner  \n",
       "date                                     \n",
       "2008-04-18                          KKR  \n",
       "2008-04-19          Chennai Super Kings  \n",
       "2008-04-19             Delhi Daredevils  \n",
       "2008-04-20  Royal Challengers Bangalore  \n",
       "2008-04-20                          KKR  "
      ]
     },
     "execution_count": 37,
     "metadata": {},
     "output_type": "execute_result"
    }
   ],
   "source": [
    "df[['team1','team2','winner']].replace('Kolkata Knight Riders','KKR').head()"
   ]
  },
  {
   "cell_type": "markdown",
   "metadata": {},
   "source": [
    "### Creating DataFrames"
   ]
  },
  {
   "cell_type": "code",
   "execution_count": 38,
   "metadata": {},
   "outputs": [
    {
     "data": {
      "text/html": [
       "<div>\n",
       "<table border=\"1\" class=\"dataframe\">\n",
       "  <thead>\n",
       "    <tr style=\"text-align: right;\">\n",
       "      <th></th>\n",
       "      <th>Ductile</th>\n",
       "      <th>YM</th>\n",
       "      <th>metal</th>\n",
       "    </tr>\n",
       "  </thead>\n",
       "  <tbody>\n",
       "    <tr>\n",
       "      <th>m1</th>\n",
       "      <td>True</td>\n",
       "      <td>200</td>\n",
       "      <td>steel</td>\n",
       "    </tr>\n",
       "    <tr>\n",
       "      <th>m2</th>\n",
       "      <td>True</td>\n",
       "      <td>100</td>\n",
       "      <td>copper</td>\n",
       "    </tr>\n",
       "    <tr>\n",
       "      <th>m3</th>\n",
       "      <td>False</td>\n",
       "      <td>50</td>\n",
       "      <td>wood</td>\n",
       "    </tr>\n",
       "  </tbody>\n",
       "</table>\n",
       "</div>"
      ],
      "text/plain": [
       "   Ductile   YM   metal\n",
       "m1    True  200   steel\n",
       "m2    True  100  copper\n",
       "m3   False   50    wood"
      ]
     },
     "execution_count": 38,
     "metadata": {},
     "output_type": "execute_result"
    }
   ],
   "source": [
    "dict1 = {'metal':['steel','copper','wood'],'YM':[200,100,50],'Ductile':[True,True,False]}\n",
    "df1=pd.DataFrame(dict1,index=['m1','m2','m3'])\n",
    "df1"
   ]
  },
  {
   "cell_type": "markdown",
   "metadata": {},
   "source": [
    "### DataFrame Transpose"
   ]
  },
  {
   "cell_type": "code",
   "execution_count": 189,
   "metadata": {},
   "outputs": [
    {
     "data": {
      "text/html": [
       "<div>\n",
       "<table border=\"1\" class=\"dataframe\">\n",
       "  <thead>\n",
       "    <tr style=\"text-align: right;\">\n",
       "      <th></th>\n",
       "      <th>m1</th>\n",
       "      <th>m2</th>\n",
       "      <th>m3</th>\n",
       "      <th>m4</th>\n",
       "    </tr>\n",
       "  </thead>\n",
       "  <tbody>\n",
       "    <tr>\n",
       "      <th>Ductile</th>\n",
       "      <td>True</td>\n",
       "      <td>True</td>\n",
       "      <td>False</td>\n",
       "      <td>False</td>\n",
       "    </tr>\n",
       "    <tr>\n",
       "      <th>YM</th>\n",
       "      <td>200</td>\n",
       "      <td>100</td>\n",
       "      <td>50</td>\n",
       "      <td>0.1</td>\n",
       "    </tr>\n",
       "    <tr>\n",
       "      <th>metal</th>\n",
       "      <td>steel</td>\n",
       "      <td>copper</td>\n",
       "      <td>wood</td>\n",
       "      <td>cement</td>\n",
       "    </tr>\n",
       "  </tbody>\n",
       "</table>\n",
       "</div>"
      ],
      "text/plain": [
       "            m1      m2     m3      m4\n",
       "Ductile   True    True  False   False\n",
       "YM         200     100     50     0.1\n",
       "metal    steel  copper   wood  cement"
      ]
     },
     "execution_count": 189,
     "metadata": {},
     "output_type": "execute_result"
    }
   ],
   "source": [
    "df1.transpose()"
   ]
  },
  {
   "cell_type": "markdown",
   "metadata": {},
   "source": [
    "### Adding row/column"
   ]
  },
  {
   "cell_type": "code",
   "execution_count": 181,
   "metadata": {},
   "outputs": [
    {
     "data": {
      "text/html": [
       "<div>\n",
       "<table border=\"1\" class=\"dataframe\">\n",
       "  <thead>\n",
       "    <tr style=\"text-align: right;\">\n",
       "      <th></th>\n",
       "      <th>Ductile</th>\n",
       "      <th>YM</th>\n",
       "      <th>metal</th>\n",
       "    </tr>\n",
       "  </thead>\n",
       "  <tbody>\n",
       "    <tr>\n",
       "      <th>m1</th>\n",
       "      <td>True</td>\n",
       "      <td>200.0</td>\n",
       "      <td>steel</td>\n",
       "    </tr>\n",
       "    <tr>\n",
       "      <th>m2</th>\n",
       "      <td>True</td>\n",
       "      <td>100.0</td>\n",
       "      <td>copper</td>\n",
       "    </tr>\n",
       "    <tr>\n",
       "      <th>m3</th>\n",
       "      <td>False</td>\n",
       "      <td>50.0</td>\n",
       "      <td>wood</td>\n",
       "    </tr>\n",
       "    <tr>\n",
       "      <th>m4</th>\n",
       "      <td>False</td>\n",
       "      <td>0.1</td>\n",
       "      <td>cement</td>\n",
       "    </tr>\n",
       "  </tbody>\n",
       "</table>\n",
       "</div>"
      ],
      "text/plain": [
       "   Ductile     YM   metal\n",
       "m1    True  200.0   steel\n",
       "m2    True  100.0  copper\n",
       "m3   False   50.0    wood\n",
       "m4   False    0.1  cement"
      ]
     },
     "execution_count": 181,
     "metadata": {},
     "output_type": "execute_result"
    }
   ],
   "source": [
    "df1.loc['m4',:] = ['False',0.1,'cement']\n",
    "df1"
   ]
  },
  {
   "cell_type": "markdown",
   "metadata": {},
   "source": [
    "### Dropping row/column"
   ]
  },
  {
   "cell_type": "code",
   "execution_count": 188,
   "metadata": {},
   "outputs": [
    {
     "name": "stdout",
     "output_type": "stream",
     "text": [
      "   Ductile     YM\n",
      "m1    True  200.0\n",
      "m2    True  100.0\n",
      "m3   False   50.0\n",
      "m4   False    0.1\n",
      "   Ductile     YM   metal\n",
      "m1    True  200.0   steel\n",
      "m2    True  100.0  copper\n",
      "m3   False   50.0    wood\n"
     ]
    }
   ],
   "source": [
    "print(df1.drop('metal',axis=1))\n",
    "print(df1.drop('m4',axis=0))"
   ]
  },
  {
   "cell_type": "markdown",
   "metadata": {},
   "source": [
    "### Appending DataFrame"
   ]
  },
  {
   "cell_type": "code",
   "execution_count": 39,
   "metadata": {},
   "outputs": [
    {
     "name": "stdout",
     "output_type": "stream",
     "text": [
      "   Ductile     YM      metal\n",
      "m1    True  200.0      steel\n",
      "m2    True  100.0     copper\n",
      "m3   False   50.0       wood\n",
      "m4    True  180.2  aluminium\n",
      "m5   False  102.1     bronze\n"
     ]
    }
   ],
   "source": [
    "dict2 =  {'metal':['aluminium','bronze'],'YM':[180.2,102.1],'Ductile':[True,False]}\n",
    "df2 = pd.DataFrame(dict2,index=['m4','m5'])\n",
    "\n",
    "print(df1.append(df2))"
   ]
  },
  {
   "cell_type": "markdown",
   "metadata": {},
   "source": [
    "### Merging dataframes "
   ]
  },
  {
   "cell_type": "code",
   "execution_count": 200,
   "metadata": {},
   "outputs": [
    {
     "data": {
      "text/html": [
       "<div>\n",
       "<table border=\"1\" class=\"dataframe\">\n",
       "  <thead>\n",
       "    <tr style=\"text-align: right;\">\n",
       "      <th></th>\n",
       "      <th>UTS (Mpa)</th>\n",
       "      <th>YM</th>\n",
       "      <th>metal</th>\n",
       "    </tr>\n",
       "  </thead>\n",
       "  <tbody>\n",
       "    <tr>\n",
       "      <th>me1</th>\n",
       "      <td>400</td>\n",
       "      <td>20</td>\n",
       "      <td>steel</td>\n",
       "    </tr>\n",
       "    <tr>\n",
       "      <th>me2</th>\n",
       "      <td>300</td>\n",
       "      <td>10</td>\n",
       "      <td>copper</td>\n",
       "    </tr>\n",
       "    <tr>\n",
       "      <th>me3</th>\n",
       "      <td>40</td>\n",
       "      <td>5</td>\n",
       "      <td>wood</td>\n",
       "    </tr>\n",
       "  </tbody>\n",
       "</table>\n",
       "</div>"
      ],
      "text/plain": [
       "     UTS (Mpa)  YM   metal\n",
       "me1        400  20   steel\n",
       "me2        300  10  copper\n",
       "me3         40   5    wood"
      ]
     },
     "execution_count": 200,
     "metadata": {},
     "output_type": "execute_result"
    }
   ],
   "source": [
    "df3=pd.DataFrame({'metal':['steel','copper','wood'],'UTS (Mpa)':[400,300,40], 'YM':[20,10,5]},index=['me1','me2','me3'])\n",
    "df3"
   ]
  },
  {
   "cell_type": "code",
   "execution_count": 207,
   "metadata": {},
   "outputs": [
    {
     "name": "stdout",
     "output_type": "stream",
     "text": [
      "    Ductile  UTS (Mpa)     YM   metal\n",
      "m1     True        NaN  200.0   steel\n",
      "m2     True        NaN  100.0  copper\n",
      "m3    False        NaN   50.0    wood\n",
      "m4    False        NaN    0.1  cement\n",
      "me1     NaN      400.0   20.0   steel\n",
      "me2     NaN      300.0   10.0  copper\n",
      "me3     NaN       40.0    5.0    wood\n"
     ]
    },
    {
     "data": {
      "text/html": [
       "<div>\n",
       "<table border=\"1\" class=\"dataframe\">\n",
       "  <thead>\n",
       "    <tr style=\"text-align: right;\">\n",
       "      <th></th>\n",
       "      <th>Ductile</th>\n",
       "      <th>YM_x</th>\n",
       "      <th>metal</th>\n",
       "      <th>UTS (Mpa)</th>\n",
       "      <th>YM_y</th>\n",
       "    </tr>\n",
       "  </thead>\n",
       "  <tbody>\n",
       "    <tr>\n",
       "      <th>0</th>\n",
       "      <td>True</td>\n",
       "      <td>200.0</td>\n",
       "      <td>steel</td>\n",
       "      <td>400.0</td>\n",
       "      <td>20.0</td>\n",
       "    </tr>\n",
       "    <tr>\n",
       "      <th>1</th>\n",
       "      <td>True</td>\n",
       "      <td>100.0</td>\n",
       "      <td>copper</td>\n",
       "      <td>300.0</td>\n",
       "      <td>10.0</td>\n",
       "    </tr>\n",
       "    <tr>\n",
       "      <th>2</th>\n",
       "      <td>False</td>\n",
       "      <td>50.0</td>\n",
       "      <td>wood</td>\n",
       "      <td>40.0</td>\n",
       "      <td>5.0</td>\n",
       "    </tr>\n",
       "    <tr>\n",
       "      <th>3</th>\n",
       "      <td>False</td>\n",
       "      <td>0.1</td>\n",
       "      <td>cement</td>\n",
       "      <td>NaN</td>\n",
       "      <td>NaN</td>\n",
       "    </tr>\n",
       "  </tbody>\n",
       "</table>\n",
       "</div>"
      ],
      "text/plain": [
       "  Ductile   YM_x   metal  UTS (Mpa)  YM_y\n",
       "0    True  200.0   steel      400.0  20.0\n",
       "1    True  100.0  copper      300.0  10.0\n",
       "2   False   50.0    wood       40.0   5.0\n",
       "3   False    0.1  cement        NaN   NaN"
      ]
     },
     "execution_count": 207,
     "metadata": {},
     "output_type": "execute_result"
    }
   ],
   "source": [
    "## concat df1 df2\n",
    "print(pd.concat([df1,df3]))\n",
    "\n",
    "## merge df1 df3 on metal outer right and left index true\n",
    "pd.merge(df1,df3,on='metal',how='left')"
   ]
  },
  {
   "cell_type": "code",
   "execution_count": null,
   "metadata": {
    "collapsed": true
   },
   "outputs": [],
   "source": []
  }
 ],
 "metadata": {
  "kernelspec": {
   "display_name": "Python 3",
   "language": "python",
   "name": "python3"
  },
  "language_info": {
   "codemirror_mode": {
    "name": "ipython",
    "version": 3
   },
   "file_extension": ".py",
   "mimetype": "text/x-python",
   "name": "python",
   "nbconvert_exporter": "python",
   "pygments_lexer": "ipython3",
   "version": "3.6.4"
  },
  "toc": {
   "base_numbering": 1,
   "nav_menu": {},
   "number_sections": true,
   "sideBar": true,
   "skip_h1_title": false,
   "title_cell": "Table of Contents",
   "title_sidebar": "Contents",
   "toc_cell": false,
   "toc_position": {},
   "toc_section_display": true,
   "toc_window_display": false
  }
 },
 "nbformat": 4,
 "nbformat_minor": 1
}
